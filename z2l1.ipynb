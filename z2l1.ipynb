{
 "cells": [
  {
   "cell_type": "markdown",
   "id": "engaging-prompt",
   "metadata": {},
   "source": [
    "## LISTA 1 ZADANIE 2"
   ]
  },
  {
   "cell_type": "code",
   "execution_count": 42,
   "id": "abroad-liability",
   "metadata": {},
   "outputs": [],
   "source": [
    "import numpy as np\n",
    "import matplotlib.pyplot as plt\n",
    "import scipy.stats\n",
    "import math"
   ]
  },
  {
   "cell_type": "code",
   "execution_count": 197,
   "id": "posted-mandate",
   "metadata": {},
   "outputs": [],
   "source": [
    "'''\n",
    "Funkcja bisekcji pobiera 4 argumenty\n",
    "f - funkcje, której miejsca zerowe chce się odnaleźć \n",
    "a,b odcinek, na którym szukane będą dane miejsca zerowe\n",
    "E - najmniejsza długość odcinka, przy której program kończy działanie\n",
    "\n",
    "'''\n",
    "\n",
    "def bisekcja(f, a, b, E):\n",
    "    if np.sign(f(a)) == np.sign(f(b)):\n",
    "        raise Exception(\n",
    "         \"znaki nie powinny byc te same\")\n",
    "        \n",
    "    c = (a + b)/2\n",
    "    c_table = np.array(c)\n",
    "    \n",
    "    if np.abs(f(c)) < E:\n",
    "        return c\n",
    "    #warunek zatrzymania\n",
    "    \n",
    "    \n",
    "    elif np.sign(f(a)) == np.sign(f(c)):\n",
    "        return bisekcja(f, c, b, E)\n",
    "    \n",
    "    elif np.sign(f(b)) == np.sign(f(c)):\n",
    "        return bisekcja(f, a, c, E)"
   ]
  },
  {
   "cell_type": "markdown",
   "id": "intellectual-relationship",
   "metadata": {},
   "source": [
    " Za pomocą metody bisekcji wyznaczyć miejsca zerowe każdej funkcji $$ f_k(x) = 2 e^{−k}x+\n",
    "1 − 3 e^{−kx}$$\n",
    " $k = 1, 2, 3, 4, 5$ w przedziale $[0, 1]$ z dokładnościa $ϵ = 10^{−6}$\n",
    ". W każdym\n",
    "przypadku ocenić rząd zbieżności metody."
   ]
  },
  {
   "cell_type": "code",
   "execution_count": 44,
   "id": "written-process",
   "metadata": {},
   "outputs": [],
   "source": [
    "k = np.linspace(1.0, 5.0, num=5)"
   ]
  },
  {
   "cell_type": "code",
   "execution_count": 101,
   "id": "numeric-toronto",
   "metadata": {},
   "outputs": [],
   "source": [
    "f_k = lambda x,k: 2 * math.e**(-k)*x + 1 - 3* math.e**(-k*x) #k=1"
   ]
  },
  {
   "cell_type": "code",
   "execution_count": 48,
   "id": "arranged-object",
   "metadata": {},
   "outputs": [
    {
     "data": {
      "text/plain": [
       "0.6886863708496094"
      ]
     },
     "execution_count": 48,
     "metadata": {},
     "output_type": "execute_result"
    }
   ],
   "source": [
    "bisekcja(f_k, 0, 1, 10**(-6))"
   ]
  },
  {
   "cell_type": "markdown",
   "id": "happy-administration",
   "metadata": {},
   "source": [
    "### zbieżność metody dla k = 1"
   ]
  },
  {
   "cell_type": "code",
   "execution_count": 50,
   "id": "specified-elevation",
   "metadata": {},
   "outputs": [],
   "source": [
    "f_k1 = lambda x, k=1: 2 * math.e**(-k)*x + 1 - 3* math.e**(-k*x)"
   ]
  },
  {
   "cell_type": "code",
   "execution_count": 51,
   "id": "falling-prayer",
   "metadata": {},
   "outputs": [
    {
     "data": {
      "text/plain": [
       "0.6886863708496094"
      ]
     },
     "execution_count": 51,
     "metadata": {},
     "output_type": "execute_result"
    }
   ],
   "source": [
    "bisekcja(f_k1, 0, 1, 10**(-6))"
   ]
  },
  {
   "cell_type": "code",
   "execution_count": 168,
   "id": "sound-bangkok",
   "metadata": {},
   "outputs": [],
   "source": [
    "xs = np.linspace(0, 1, 80)"
   ]
  },
  {
   "cell_type": "code",
   "execution_count": 169,
   "id": "proved-terminology",
   "metadata": {},
   "outputs": [],
   "source": [
    "x_gwiazdka =sum(f_k1(xs))/len(f_k1(xs))\n",
    "x_n = f_k1(xs) \n",
    "X = []\n",
    "Y = []\n",
    "\n",
    "for i in range(len(x_n)-1):\n",
    "    X.append(np.log(np.abs(x_n[i] - x_gwiazdka)))\n",
    "    Y.append(np.log(np.abs(x_n[i-1] - x_gwiazdka)))\n",
    "    \n",
    "#print(X)\n",
    "#print(Y)"
   ]
  },
  {
   "cell_type": "code",
   "execution_count": 170,
   "id": "atomic-valentine",
   "metadata": {},
   "outputs": [],
   "source": [
    "p =np.polyfit(X, Y, 1)"
   ]
  },
  {
   "cell_type": "code",
   "execution_count": 171,
   "id": "structural-region",
   "metadata": {
    "scrolled": true
   },
   "outputs": [
    {
     "name": "stdout",
     "output_type": "stream",
     "text": [
      "a = 0.9207451009908151\n"
     ]
    }
   ],
   "source": [
    "x_poly = np.linspace(min(X),max(X), 10)\n",
    "a_poly = p[0] \n",
    "b_poly = p[1]\n",
    "funkcja_liniowa = lambda x: a_poly*x + b_poly\n",
    "print(\"a =\", p[0])\n"
   ]
  },
  {
   "cell_type": "code",
   "execution_count": 172,
   "id": "incorporate-colonial",
   "metadata": {},
   "outputs": [
    {
     "data": {
      "text/plain": [
       "Text(0.5, 1.0, 'k=1, a =0.9207451009908151')"
      ]
     },
     "execution_count": 172,
     "metadata": {},
     "output_type": "execute_result"
    },
    {
     "data": {
      "image/png": "[encoded data removed]",
      "text/plain": [
       "<Figure size 432x288 with 1 Axes>"
      ]
     },
     "metadata": {
      "needs_background": "light"
     },
     "output_type": "display_data"
    }
   ],
   "source": [
    "plt.scatter(X, Y)\n",
    "plt.plot(x_poly, funkcja_liniowa(x_poly), color = \"red\")\n",
    "plt.xlabel('X')\n",
    "plt.ylabel('Y')\n",
    "plt.title(\"k=1, a =\" + str(p[0]))"
   ]
  },
  {
   "cell_type": "markdown",
   "id": "dangerous-japanese",
   "metadata": {},
   "source": [
    "### zbieżność metody dla k = 2"
   ]
  },
  {
   "cell_type": "code",
   "execution_count": 173,
   "id": "contrary-smile",
   "metadata": {},
   "outputs": [],
   "source": [
    "f_k2 = lambda x, k=2: 2 * math.e**(-k)*x + 1 - 3* math.e**(-k*x)"
   ]
  },
  {
   "cell_type": "code",
   "execution_count": 174,
   "id": "instant-guidance",
   "metadata": {},
   "outputs": [],
   "source": [
    "bisekcja(f_k2, 0, 1, 10**(-6))\n",
    "x_gwiazdka2 =sum(f_k2(xs))/len(f_k2(xs))\n",
    "x_n2 = f_k2(xs) \n",
    "aX = []\n",
    "aY = []\n",
    "\n",
    "for i in range(len(x_n)-1):\n",
    "    aX.append(np.log(np.abs(x_n2[i] - x_gwiazdka2)))\n",
    "    aY.append(np.log(np.abs(x_n2[i-1] - x_gwiazdka2)))\n",
    "    "
   ]
  },
  {
   "cell_type": "code",
   "execution_count": 189,
   "id": "twenty-confirmation",
   "metadata": {},
   "outputs": [
    {
     "name": "stdout",
     "output_type": "stream",
     "text": [
      "a = 1.0000007827183384\n"
     ]
    }
   ],
   "source": [
    "p2 =np.polyfit(X2, Y2, 1)\n",
    "x_poly2 = np.linspace(-4.5,max(X2), 10)\n",
    "a_poly2 = p2[0] \n",
    "b_poly2 = p2[1]\n",
    "funkcja_liniowa = lambda x: a_poly2*x + b_poly2\n",
    "print(\"a =\", p2[0])"
   ]
  },
  {
   "cell_type": "code",
   "execution_count": 190,
   "id": "south-floor",
   "metadata": {},
   "outputs": [
    {
     "data": {
      "text/plain": [
       "Text(0.5, 1.0, 'k=2, a =1.0000007827183384')"
      ]
     },
     "execution_count": 190,
     "metadata": {},
     "output_type": "execute_result"
    },
    {
     "data": {
      "image/png": "[encoded data removed]",
      "text/plain": [
       "<Figure size 432x288 with 1 Axes>"
      ]
     },
     "metadata": {
      "needs_background": "light"
     },
     "output_type": "display_data"
    }
   ],
   "source": [
    "plt.scatter(aX, aY)\n",
    "plt.plot(x_poly2, funkcja_liniowa(x_poly2), color = \"red\")\n",
    "plt.xlabel('X')\n",
    "plt.ylabel('Y')\n",
    "plt.title(\"k=2, a =\" + str(p2[0]))\n"
   ]
  },
  {
   "cell_type": "markdown",
   "id": "written-killing",
   "metadata": {},
   "source": [
    "### zbieżność dla k = 3"
   ]
  },
  {
   "cell_type": "code",
   "execution_count": 177,
   "id": "mighty-concern",
   "metadata": {},
   "outputs": [],
   "source": [
    "f_k3 = lambda x, k=3: 2 * math.e**(-k)*x + 1 - 3* math.e**(-k*x)"
   ]
  },
  {
   "cell_type": "code",
   "execution_count": 178,
   "id": "dying-county",
   "metadata": {},
   "outputs": [],
   "source": [
    "bisekcja(f_k3, 0, 1, 10**(-6))\n",
    "x_gwiazdka3 =sum(f_k3(xs))/len(f_k3(xs))\n",
    "x_n3 = f_k3(xs) \n",
    "X3 = []\n",
    "Y3 = []\n",
    "\n",
    "for i in range(len(x_n)-1):\n",
    "    X3.append(np.log(np.abs(x_n3[i] - x_gwiazdka3)))\n",
    "    Y3.append(np.log(np.abs(x_n3[i-1] - x_gwiazdka3)))\n",
    "    "
   ]
  },
  {
   "cell_type": "code",
   "execution_count": 179,
   "id": "hispanic-soccer",
   "metadata": {},
   "outputs": [
    {
     "name": "stdout",
     "output_type": "stream",
     "text": [
      "a = 0.9640454441180599\n"
     ]
    }
   ],
   "source": [
    "p3 =np.polyfit(X3, Y3, 1)\n",
    "x_poly3 = np.linspace(min(X3),max(X3), 10)\n",
    "a_poly3 = p3[0] \n",
    "b_poly3 = p3[1]\n",
    "funkcja_liniowa = lambda x: a_poly3*x + b_poly3\n",
    "print(\"a =\", p3[0])"
   ]
  },
  {
   "cell_type": "code",
   "execution_count": 180,
   "id": "fleet-rainbow",
   "metadata": {},
   "outputs": [
    {
     "data": {
      "text/plain": [
       "Text(0.5, 1.0, 'k=3, a =0.9640454441180599')"
      ]
     },
     "execution_count": 180,
     "metadata": {},
     "output_type": "execute_result"
    },
    {
     "data": {
      "image/png": "[encoded data removed]",
      "text/plain": [
       "<Figure size 432x288 with 1 Axes>"
      ]
     },
     "metadata": {
      "needs_background": "light"
     },
     "output_type": "display_data"
    }
   ],
   "source": [
    "plt.scatter(X3, Y3)\n",
    "plt.plot(x_poly3, funkcja_liniowa(x_poly3), color = \"red\")\n",
    "plt.xlabel('X')\n",
    "plt.ylabel('Y')\n",
    "plt.title(\"k=3, a =\" + str(p3[0]))"
   ]
  },
  {
   "cell_type": "markdown",
   "id": "subject-scroll",
   "metadata": {},
   "source": [
    "### zbieżność dla k = 4"
   ]
  },
  {
   "cell_type": "code",
   "execution_count": 181,
   "id": "tired-wrapping",
   "metadata": {},
   "outputs": [
    {
     "name": "stdout",
     "output_type": "stream",
     "text": [
      "a = 0.9579549103827332\n"
     ]
    },
    {
     "data": {
      "text/plain": [
       "Text(0.5, 1.0, 'k=4, a =0.9579549103827332')"
      ]
     },
     "execution_count": 181,
     "metadata": {},
     "output_type": "execute_result"
    },
    {
     "data": {
      "image/png": "[encoded data removed]",
      "text/plain": [
       "<Figure size 432x288 with 1 Axes>"
      ]
     },
     "metadata": {
      "needs_background": "light"
     },
     "output_type": "display_data"
    }
   ],
   "source": [
    "f_k4 = lambda x, k=4: 2 * math.e**(-k)*x + 1 - 3* math.e**(-k*x)\n",
    "bisekcja(f_k4, 0, 1, 10**(-6))\n",
    "x_gwiazdka4 =sum(f_k4(xs))/len(f_k4(xs))\n",
    "x_n4 = f_k4(xs) \n",
    "X4 = []\n",
    "Y4 = []\n",
    "\n",
    "for i in range(len(x_n)-1):\n",
    "    X4.append(np.log(np.abs(x_n4[i] - x_gwiazdka4)))\n",
    "    Y4.append(np.log(np.abs(x_n4[i-1] - x_gwiazdka4)))\n",
    "p4 =np.polyfit(X4, Y4, 1)\n",
    "x_poly4 = np.linspace(min(X4),max(X4), 10)\n",
    "a_poly4 = p4[0] \n",
    "b_poly4 = p4[1]\n",
    "funkcja_liniowa = lambda x: a_poly4*x + b_poly4\n",
    "print(\"a =\", p4[0])\n",
    "plt.scatter(X4, Y4)\n",
    "plt.plot(x_poly4, funkcja_liniowa(x_poly4), color = \"red\")\n",
    "plt.xlabel('X')\n",
    "plt.ylabel('Y')\n",
    "plt.title(\"k=4, a =\" + str(p4[0]))"
   ]
  },
  {
   "cell_type": "markdown",
   "id": "sophisticated-certificate",
   "metadata": {},
   "source": [
    "### zbieżność dla k = 5"
   ]
  },
  {
   "cell_type": "code",
   "execution_count": 182,
   "id": "immediate-introduction",
   "metadata": {},
   "outputs": [
    {
     "name": "stdout",
     "output_type": "stream",
     "text": [
      "a = 0.9446159898866875\n"
     ]
    },
    {
     "data": {
      "text/plain": [
       "Text(0.5, 1.0, 'k=5, a =0.9446159898866875')"
      ]
     },
     "execution_count": 182,
     "metadata": {},
     "output_type": "execute_result"
    },
    {
     "data": {
      "image/png": "[encoded data removed]",
      "text/plain": [
       "<Figure size 432x288 with 1 Axes>"
      ]
     },
     "metadata": {
      "needs_background": "light"
     },
     "output_type": "display_data"
    }
   ],
   "source": [
    "f_k5 = lambda x, k=5: 2 * math.e**(-k)*x + 1 - 3* math.e**(-k*x)\n",
    "bisekcja(f_k5, 0, 1, 10**(-6))\n",
    "x_gwiazdka5 =sum(f_k5(xs))/len(f_k5(xs))\n",
    "x_n5 = f_k5(xs) \n",
    "X5 = []\n",
    "Y5 = []\n",
    "\n",
    "for i in range(len(x_n)-1):\n",
    "    X5.append(np.log(np.abs(x_n5[i] - x_gwiazdka5)))\n",
    "    Y5.append(np.log(np.abs(x_n5[i-1] - x_gwiazdka5)))\n",
    "p5 =np.polyfit(X5, Y5, 1)\n",
    "x_poly5 = np.linspace(min(X5),max(X5), 10)\n",
    "a_poly5 = p5[0] \n",
    "b_poly5 = p5[1]\n",
    "funkcja_liniowa = lambda x: a_poly5*x + b_poly5\n",
    "print(\"a =\", p5[0])\n",
    "plt.scatter(X5, Y5)\n",
    "plt.plot(x_poly5, funkcja_liniowa(x_poly5), color = \"red\")\n",
    "plt.xlabel('X')\n",
    "plt.ylabel('Y')\n",
    "plt.title(\"k=5, a =\" + str(p5[0]))"
   ]
  },
  {
   "cell_type": "markdown",
   "id": "moved-craft",
   "metadata": {},
   "source": [
    "wybrac jakies k i dla przedzialu blisko miejsc zerowych metoda newtona i metoda siecznych"
   ]
  },
  {
   "cell_type": "markdown",
   "id": "million-spectacular",
   "metadata": {},
   "source": [
    "## METODA NEWTONA"
   ]
  },
  {
   "cell_type": "code",
   "execution_count": 198,
   "id": "closed-services",
   "metadata": {},
   "outputs": [],
   "source": [
    "x0 = 0.4\n",
    "xs_n = np.linspace(x0, 1, 80)"
   ]
  },
  {
   "cell_type": "code",
   "execution_count": 199,
   "id": "latest-jimmy",
   "metadata": {},
   "outputs": [],
   "source": [
    "f = lambda x: 2 * math.e**(-1)*x + 1 - 3* math.e**(-x)\n",
    "f_prime = lambda x:  3 * math.e**(-x) + 2/math.e\n",
    "newton = x0 - (f(x0))/(f_prime(x0))"
   ]
  },
  {
   "cell_type": "code",
   "execution_count": null,
   "id": "functioning-firewall",
   "metadata": {},
   "outputs": [],
   "source": [
    "x_gwiazdka =sum(f_k1(xs))/len(f_k1(xs))\n",
    "x_n = f_k1(xs) \n",
    "X = []\n",
    "Y = []\n",
    "\n",
    "for i in range(len(x_n)-1):\n",
    "    X.append(np.log(np.abs(x_n[i] - x_gwiazdka)))\n",
    "    Y.append(np.log(np.abs(x_n[i-1] - x_gwiazdka)))\n",
    "    "
   ]
  }
 ],
 "metadata": {
  "kernelspec": {
   "display_name": "Python 3",
   "language": "python",
   "name": "python3"
  },
  "language_info": {
   "codemirror_mode": {
    "name": "ipython",
    "version": 3
   },
   "file_extension": ".py",
   "mimetype": "text/x-python",
   "name": "python",
   "nbconvert_exporter": "python",
   "pygments_lexer": "ipython3",
   "version": "3.9.0"
  }
 },
 "nbformat": 4,
 "nbformat_minor": 5
}
