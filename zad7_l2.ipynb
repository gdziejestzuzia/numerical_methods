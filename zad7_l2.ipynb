{
 "cells": [
  {
   "cell_type": "code",
   "execution_count": 20,
   "id": "destroyed-resource",
   "metadata": {},
   "outputs": [],
   "source": [
    "import numpy as np\n",
    "import math\n",
    "import matplotlib.pyplot as plt"
   ]
  },
  {
   "cell_type": "markdown",
   "id": "patent-stack",
   "metadata": {},
   "source": [
    " ### Wygładzanie konturu krzywej przy pomocy splajnów 3-go stopnia. \n",
    "#### Punkty p1(−1, −1), p2(0, −1), p3(1, −1), p4(1, 0), p5(1, 1), p6(0, 1), p7(−1, 1), p8(−1, 0), p9(−1, −1) leżą na obwodzie kwadratu [−1, 1] × [−1, 1]. Niech tk = k będą węzłami interpolacji, a (xk, yk) współrzędnymi punktów pk dla k = 1, 2, ..., 9. Wyznaczyć splajn interpolacyjny s(t) stopnia 3 dla (tk, xk), k = 1, 2 . . . , 9 i taki sam splajn interpolacyjny q(t) dla punktów (tk, yk), k = 1, 2, . . . , 9. Sporządzić wykres krzywej (s(t), q(t)), t ∈ [1, 9] i na tym samym rysunku umieścić punkty pk"
   ]
  },
  {
   "cell_type": "code",
   "execution_count": 29,
   "id": "bizarre-analysis",
   "metadata": {},
   "outputs": [],
   "source": [
    "def interpolate(x, y, xs):\n",
    "    \"\"\"\n",
    "    Funkcja zwraca wektor - wartości funkcji interpolacji dla zadanych argumentów\n",
    "      xs - float lub np.linspace - x, liczba lub przedział dla których obliczane będą wartości\n",
    "      x - wektor pierwszych współrzędnych punktów, przez które ma przebiegać funkcja interpolacji\n",
    "      y - wektor drugich współrzędnych punktów, przez które ma przebiegać funkcja interpolacji\n",
    "len(x) = len(y)\n",
    " L I L1 to dwie osobne macierze trójkątne\n",
    "    \"\"\"\n",
    "    \n",
    "    rozm = len(x) \n",
    "    x = np.asfarray(x)\n",
    "    y = np.asfarray(y)\n",
    "    xdiff = np.diff(x)\n",
    "    ydiff = np.diff(y)\n",
    "\n",
    "    L = np.empty(rozm)\n",
    "    L1 = np.empty(rozm-1)\n",
    "    z = np.empty(rozm)\n",
    "\n",
    "    L[0] = math.sqrt(2*xdiff[0])\n",
    "    L1[0] = 0.0\n",
    "    b0 = 0.0 \n",
    "    z[0] = b0 / L[0]\n",
    "\n",
    "    for i in range(1, rozm-1, 1):\n",
    "        L1[i] = xdiff[i-1] / L[i-1]\n",
    "        L[i] = math.sqrt(2 * (xdiff[i-1]+xdiff[i]) - L1[i-1] * L1[i-1])\n",
    "        Bi = 6 * (ydiff[i] / xdiff[i] - ydiff[i-1] / xdiff[i-1])\n",
    "        z[i] = (Bi - L1[i-1] * z[i-1]) / L[i]\n",
    "\n",
    "    i = rozm - 1\n",
    "    L1[i-1] = xdiff[-1] / L[i-1]\n",
    "    L[i] = math.sqrt(2 * xdiff[-1] - L1[i-1] * L1[i-1])\n",
    "    Bi = 0.0\n",
    "    z[i] = (Bi - L1[i-1] * z[i-1]) / L[i]\n",
    "\n",
    "    # rozwiazanie dla L transponowanej\n",
    "    i = rozm-1\n",
    "    z[i] = z[i] / L[i]\n",
    "    for i in range(rozm-2, -1, -1):\n",
    "        z[i] = (z[i] - L1[i-1]*z[i+1])/L[i]\n",
    "\n",
    "    index = x.searchsorted(xs)\n",
    "    np.clip(index, 1, rozm-1, index)\n",
    "\n",
    "    xi1, xi0 = x[index], x[index-1]\n",
    "    yi1, yi0 = y[index], y[index-1]\n",
    "    zi1, zi0 = z[index], z[index-1]\n",
    "    hi1 = xi1 - xi0\n",
    "    \n",
    "    d_j = zi0/(6*hi1)\n",
    "    c_j = zi1/(6*hi1)\n",
    "    b_j = (yi1/hi1 - zi1*hi1/6)\n",
    "    a_j = (yi0/hi1 - zi0*hi1/6)*(xi1-xs)\n",
    "    \n",
    "\n",
    "\n",
    "    func = d_j * (xi1-xs)**3 + c_j*(xs-xi0)**2 + b_j *(xs-xi0) + a_j\n",
    "    \n",
    "   # print(\"Splajn 3-go stopnia to:{}*(x - x_j)\".format([d_j]), L[0])\n",
    "    return func"
   ]
  },
  {
   "cell_type": "code",
   "execution_count": 36,
   "id": "tribal-sheep",
   "metadata": {},
   "outputs": [],
   "source": [
    "#interpolate(x, y, x_new)"
   ]
  },
  {
   "cell_type": "code",
   "execution_count": 31,
   "id": "buried-carrier",
   "metadata": {},
   "outputs": [],
   "source": [
    "x_pkt = [-1, 0, 1, 1, 1, 0, -1, -1, -1]\n",
    "y_pkt = [-1, -1, -1, 0, 1, 1, 1, 0, -1]\n",
    "t_k = [1, 2, 3, 4, 5, 6, 7, 8, 9]\n",
    "x = t_k\n",
    "y = x_pkt\n",
    "\n",
    "x_new = np.linspace(0, 10, 200)"
   ]
  },
  {
   "cell_type": "code",
   "execution_count": 32,
   "id": "preliminary-member",
   "metadata": {},
   "outputs": [],
   "source": [
    "#plt.scatter(x, y)\n",
    "#plt.plot(x_new, interpolate(x, y, x_new))"
   ]
  },
  {
   "cell_type": "code",
   "execution_count": 33,
   "id": "solved-stereo",
   "metadata": {},
   "outputs": [],
   "source": [
    "#plt.scatter(t_k, y_pkt)\n",
    "#plt.plot(x_new, interpolate(t_k, y_pkt, x_new))"
   ]
  },
  {
   "cell_type": "code",
   "execution_count": 43,
   "id": "laughing-commonwealth",
   "metadata": {},
   "outputs": [],
   "source": [
    "t = [1,2,3,4,5,6,7,8,9]\n",
    "x_linspace= np.linspace(1, 9, 100)\n",
    "#splajn interpolacyjny dla (t_k, y_pkt)\n",
    "s = interpolate(t_k, y_pkt, x_linspace)\n",
    "#splajn interpolacyjny dla (t_k, x_pkt)\n",
    "q = interpolate(x, y, x_linspace)"
   ]
  },
  {
   "cell_type": "code",
   "execution_count": 44,
   "id": "medical-cleaning",
   "metadata": {},
   "outputs": [
    {
     "data": {
      "text/plain": [
       "Text(0.5, 1.0, 'Splajn interpolacyjny złożenia funkcji s(t) i q(t)')"
      ]
     },
     "execution_count": 44,
     "metadata": {},
     "output_type": "execute_result"
    },
    {
     "data": {
      "image/png": "[encoded data removed]",
      "text/plain": [
       "<Figure size 432x288 with 1 Axes>"
      ]
     },
     "metadata": {
      "needs_background": "light"
     },
     "output_type": "display_data"
    }
   ],
   "source": [
    "plt.scatter(x_pkt, y_pkt)\n",
    "plt.plot(s, q)\n",
    "plt.title(\"Splajn interpolacyjny złożenia funkcji s(t) i q(t)\")"
   ]
  },
  {
   "cell_type": "code",
   "execution_count": null,
   "id": "hybrid-nigeria",
   "metadata": {},
   "outputs": [],
   "source": []
  }
 ],
 "metadata": {
  "kernelspec": {
   "display_name": "Python 3",
   "language": "python",
   "name": "python3"
  },
  "language_info": {
   "codemirror_mode": {
    "name": "ipython",
    "version": 3
   },
   "file_extension": ".py",
   "mimetype": "text/x-python",
   "name": "python",
   "nbconvert_exporter": "python",
   "pygments_lexer": "ipython3",
   "version": "3.9.0"
  }
 },
 "nbformat": 4,
 "nbformat_minor": 5
}
